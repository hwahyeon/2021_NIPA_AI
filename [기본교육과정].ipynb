{
  "nbformat": 4,
  "nbformat_minor": 0,
  "metadata": {
    "colab": {
      "name": "[기본교육과정].ipynb",
      "provenance": [],
      "collapsed_sections": [],
      "mount_file_id": "1H8hG7aQmtv3hm_QGQ7hLOVwpGWcOikOc",
      "authorship_tag": "ABX9TyOkutyc5MopUPm9IPRtwcgZ",
      "include_colab_link": true
    },
    "kernelspec": {
      "name": "python3",
      "display_name": "Python 3"
    },
    "language_info": {
      "name": "python"
    }
  },
  "cells": [
    {
      "cell_type": "markdown",
      "metadata": {
        "id": "view-in-github",
        "colab_type": "text"
      },
      "source": [
        "<a href=\"https://colab.research.google.com/github/hwahyeon/2021_NIPA_AI/blob/main/%5B%EA%B8%B0%EB%B3%B8%EA%B5%90%EC%9C%A1%EA%B3%BC%EC%A0%95%5D.ipynb\" target=\"_parent\"><img src=\"https://colab.research.google.com/assets/colab-badge.svg\" alt=\"Open In Colab\"/></a>"
      ]
    },
    {
      "cell_type": "markdown",
      "metadata": {
        "id": "sdta-c-i4YAh"
      },
      "source": [
        "빠르게 훑으면서 도움될 것만 부분만 기록\n",
        "\n",
        "본문은 아래 교육과정을 요약한 것임\n",
        "\n",
        "[기본교육과정] 핵심 파이썬 기초 프로그래밍\n",
        "\n",
        "[기본교육과정] 데이터 분석을 위한 라이브러리"
      ]
    },
    {
      "cell_type": "markdown",
      "metadata": {
        "id": "dTIReeTkKdUm"
      },
      "source": [
        "##**[기본교육과정] 핵심 파이썬 기초 프로그래밍**"
      ]
    },
    {
      "cell_type": "code",
      "metadata": {
        "colab": {
          "base_uri": "https://localhost:8080/"
        },
        "id": "u7rBySXV4ZWr",
        "outputId": "934ca29f-d2dc-47cd-b3af-09d0cb253549"
      },
      "source": [
        "# print() 에서 자료형이 다르면 comma로 나누어 한 번에 출력할 수 있다.\n",
        "print(1, \"123\")"
      ],
      "execution_count": null,
      "outputs": [
        {
          "output_type": "stream",
          "name": "stdout",
          "text": [
            "1 123\n"
          ]
        }
      ]
    },
    {
      "cell_type": "code",
      "metadata": {
        "id": "BJVUT9_7l780",
        "colab": {
          "base_uri": "https://localhost:8080/"
        },
        "outputId": "a5438482-9aa2-4898-a423-86758507a4b2"
      },
      "source": [
        "# 조건도 변수에 참과 거짓으로 넣을 수 있다.\n",
        "ans1 = (1==1)\n",
        "ans2 = (2<1)\n",
        "\n",
        "print(ans1, ans2)"
      ],
      "execution_count": null,
      "outputs": [
        {
          "output_type": "stream",
          "name": "stdout",
          "text": [
            "True False\n"
          ]
        }
      ]
    },
    {
      "cell_type": "code",
      "metadata": {
        "colab": {
          "base_uri": "https://localhost:8080/"
        },
        "id": "E1XzOFRv4_HB",
        "outputId": "c4c488c5-d5dc-48da-a283-c3cb9c7d8e7a"
      },
      "source": [
        "#문자 개수 세는 프로그램\n",
        "\n",
        "mix = \"쌀쌀쌀쌀쌀쌀쌀쌀쌀쌀쌀쌀쌀쌀쌀쌀쌀쌀쌀쌀쌀쌀쌀쌀쌀쌀쌀쌀쌀쌀쌀쌀쌀쌀쌀쌀쌀쌀쌀쌀쌀쌀쌀쌀쌀쌀쌀쌀쌀쌀\"\n",
        "\n",
        "#내가 푼 식\n",
        "print(mix.count('쌀'))\n",
        "\n",
        "# 조건문을 활용한 식\n",
        "count = 0\n",
        "for i in mix:\n",
        "  if i=='쌀':\n",
        "    count += 1\n",
        "print(count)"
      ],
      "execution_count": null,
      "outputs": [
        {
          "output_type": "stream",
          "name": "stdout",
          "text": [
            "50\n",
            "50\n"
          ]
        }
      ]
    },
    {
      "cell_type": "code",
      "metadata": {
        "colab": {
          "base_uri": "https://localhost:8080/"
        },
        "id": "z1-M9Nm-5s6H",
        "outputId": "d8f757d6-62ac-491f-b3ed-f29adce6f4ba"
      },
      "source": [
        "# list.append(d)\n",
        "# 자료 d를 리스트 마지막에 추가, 오직 한 개의 자료만 넣을 수 있음.\n",
        "\n",
        "# list.insert(i, d)\n",
        "# 인덱스 i에 자료 d를 추가, 오직 한 개의 자료만 넣을 수 있음.\n",
        "\n",
        "# list.remove(d)\n",
        "# \"처음 나오는 자료 d\"를 제거, 즉 중복 시 인덱스가 작은 원소가 제거됨.\n",
        "\n",
        "lst_ = [3,1,2,3]\n",
        "lst_.remove(3)\n",
        "print(lst_)"
      ],
      "execution_count": null,
      "outputs": [
        {
          "output_type": "stream",
          "name": "stdout",
          "text": [
            "[1, 2, 3]\n"
          ]
        }
      ]
    },
    {
      "cell_type": "code",
      "metadata": {
        "colab": {
          "base_uri": "https://localhost:8080/"
        },
        "id": "zaeLeMos7W-_",
        "outputId": "eb065659-395b-4e3a-9636-7f7be2123231"
      },
      "source": [
        "# 순서가 있는 자료형을 시퀀스라고 한다. 문자열, 리스트, 튜플 등이 시퀀스 자료형이다.\n",
        "\n",
        "# 1. 순서가 존재해서 인덱싱/슬라이싱이 가능\n",
        "\n",
        "# 2. in 연산자로 원소 조회 가능 / 결과는 True or False로 나옴.\n",
        "a = \"once\"\n",
        "b = ['t', 'w', 'i', 'c', 'e']\n",
        "c = ('t', 'w', 'i', 'c', 'e')\n",
        "print('o' in a)\n",
        "print('o' in b)\n",
        "print('e' in c)\n",
        "\n",
        "# 3. 길이 확인이 가능하다.\n",
        "\n",
        "# 4. +연산자로 시퀀스를 이어 붙일 수 있다.\n",
        "\n",
        "# 5. *연산자로 반복이 가능하다."
      ],
      "execution_count": null,
      "outputs": [
        {
          "output_type": "stream",
          "name": "stdout",
          "text": [
            "True\n",
            "False\n",
            "True\n"
          ]
        }
      ]
    },
    {
      "cell_type": "code",
      "metadata": {
        "colab": {
          "base_uri": "https://localhost:8080/"
        },
        "id": "DF36zm-r-rMh",
        "outputId": "e610c685-20b0-47fe-c96f-501cef32c946"
      },
      "source": [
        "# 딕셔너리 {key:value} 형식이며 key를 알면 value를 알 수 있다.\n",
        "\n",
        "my_dict1 = {\"사과\":\"apple\", \"바나나\":\"banana\", \"당근\":\"carrot\"}\n",
        "var1 = my_dict1['사과']\n",
        "# key로 원소 삭제\n",
        "del my_dict1['당근']\n",
        "\n",
        "# key로 추가\n",
        "my_dict1['체리'] = 'cherry'\n",
        "print(my_dict1)\n",
        "\n",
        "\n",
        "# Key는 변할 수 없는 자료형이여야 한다. 즉, 리스트는 불가, 튜플은 가능\n",
        "my_dict2 = {}\n",
        "my_dict2[1] = \"Integer\"\n",
        "my_dict2[\"a\"] = \"String\"\n",
        "my_dict2[(1,2,3)] = \"Tuple\"\n",
        "\n",
        "try:\n",
        "    #여기에 [1, 2, 3] → \"List\"의 대응관계를 만들어봅시다.\n",
        "    my_dict2[[1,2,3]] = \"List\"\n",
        "    \n",
        "except TypeError:\n",
        "    print(\"List는 Dictionary의 Key가 될 수 없습니다.\")"
      ],
      "execution_count": null,
      "outputs": [
        {
          "output_type": "stream",
          "name": "stdout",
          "text": [
            "{'사과': 'apple', '바나나': 'banana', '체리': 'cherry'}\n",
            "List는 Dictionary의 Key가 될 수 없습니다.\n"
          ]
        }
      ]
    },
    {
      "cell_type": "code",
      "metadata": {
        "colab": {
          "base_uri": "https://localhost:8080/"
        },
        "id": "jnvrAYsyF6zv",
        "outputId": "7c676bb2-823d-4c48-f255-3d6e5d72a197"
      },
      "source": [
        "#시퀀스 자료 중에서 가장 큰 것 max, 작은 것 min\n",
        "\n",
        "print(max('사가나다라마바'))\n",
        "print(min('xyzabc'))"
      ],
      "execution_count": null,
      "outputs": [
        {
          "output_type": "stream",
          "name": "stdout",
          "text": [
            "사\n",
            "a\n"
          ]
        }
      ]
    },
    {
      "cell_type": "code",
      "metadata": {
        "id": "PRwWYyRPH-jI"
      },
      "source": [
        "# Method는 특정 자료에 대해 특정 기능을 하는 코드를 말함.\n",
        "# (특정 기능을 하는 코드 = 함수)\n",
        "# my_list.append()\n",
        "# my_list에서 특정 기능을 하고 있는 append같은 것이 메서드이다.\n",
        "\n",
        "# 함수는 특정 기능을 한다. (매개변수를 이용해 자료를 전달한다.)\n",
        "# 메서드는 특정 자료와 연관 지어 기능을 한다. (자료 뒤에 .을 찍어 사용한다)"
      ],
      "execution_count": null,
      "outputs": []
    },
    {
      "cell_type": "code",
      "metadata": {
        "colab": {
          "base_uri": "https://localhost:8080/"
        },
        "id": "YK8UKPD4I_HI",
        "outputId": "7c03b64c-fcde-4a0e-8356-a44c0965e927"
      },
      "source": [
        "#매개변수(parameter) : 함수를 정의할 때(만들 때) 넘겨받은 값을 관리하는 변수\n",
        "#인자(argument) : 함수를 호출할 때(사용할 때) 함수로 넘겨주는 자료\n",
        "\n",
        "def solve(a, b): # 여기서 a, b가 매개변수이다. 즉, 함수를 정의할 때 사용한 변수이다.\n",
        "    return a*b\n",
        "\n",
        "var1 = solve(3, 4) # 여기서 3과 4가 인자이다. 실제로 사용할 때 함수로 넘겨주는 값들을 말한다.\n",
        "var2 = solve(3, ['Cham'])\n",
        "\n",
        "print(var1, var2)"
      ],
      "execution_count": null,
      "outputs": [
        {
          "output_type": "stream",
          "name": "stdout",
          "text": [
            "12 ['Cham', 'Cham', 'Cham']\n"
          ]
        }
      ]
    },
    {
      "cell_type": "markdown",
      "metadata": {
        "id": "wXk8At_fKYWg"
      },
      "source": [
        "##**[기본교육과정] 데이터 분석을 위한 라이브러리**"
      ]
    },
    {
      "cell_type": "markdown",
      "metadata": {
        "id": "ACA7yPMdtGnF"
      },
      "source": [
        "###01 파이썬의 여러가지 모듈과 패키지"
      ]
    },
    {
      "cell_type": "code",
      "metadata": {
        "id": "aPMO6JyTKp5B"
      },
      "source": [
        "# 모듈\n",
        "# 특정 목적을 가진 함수, 자료의 모임. 즉 누군가 만들어놓은 함수, 변수 등을 활용할 때 모듈을 불러오면 된다.\n",
        "# import로 모듈을 불러올 수 있다.\n",
        "\n",
        "# Dot notation (점 표기법)\n",
        "# 모듈.함수\n",
        "\n",
        "# py 확장자로 모듈 제작 가능\n",
        "\n",
        "'''-------------------------------------\n",
        "# cal.py\n",
        "def plus(a, b):\n",
        "  return a + b\n",
        "\n",
        "modelName = \"Cal\"\n",
        "-------------------------------------\n",
        "# main.py\n",
        "import cal\n",
        "print(cal.plus(3,4))\n",
        "print(cal.modelName)\n",
        "-------------------------------------'''\n",
        "\n",
        "# cal.py도 main.py도 다 모듈이다."
      ],
      "execution_count": null,
      "outputs": []
    },
    {
      "cell_type": "code",
      "metadata": {
        "id": "lgOTODgot_aV"
      },
      "source": [
        "# 패키지는 모듈을 폴더(Directory)로 구분하여 관리하는 것\n",
        "\n",
        "# import 폴더.모듈\n",
        "# print(모듈.함수())\n",
        "\n",
        "# from 폴더.모듈 import 함수\n",
        "# print(함수())\n",
        "# 이렇게 함수 이름만으로 실행하는 경우, Main.py와 모듈.py에서 동일한 함수 이름을 쓸 경우 충돌이 생길 수 있다."
      ],
      "execution_count": null,
      "outputs": []
    },
    {
      "cell_type": "code",
      "metadata": {
        "id": "Jbe9F2GyuzuQ"
      },
      "source": [
        "# urllib패키지 안 request 모듈에서 urlopen 함수를 불러옴\n",
        "from urllib.request import urlopen\n",
        "\n",
        "# 함수는 .으로 이어서 연속으로 사용할 수 있다. A().B().C()\n",
        "webpage = urlopen(\"https://en.wikipedia.org/wiki/Lorem_ipsum\").read().decode('utf-8')\n",
        "\n",
        "print(webpage)"
      ],
      "execution_count": null,
      "outputs": []
    },
    {
      "cell_type": "markdown",
      "metadata": {
        "id": "M8X0q2sus0GX"
      },
      "source": [
        "###02 데이터 핸들링을 위한 라이브러리 NumPy"
      ]
    },
    {
      "cell_type": "code",
      "metadata": {
        "id": "2KY7QZfQikUQ"
      },
      "source": [
        "import numpy as np\n",
        "\n",
        "# 0부터 4까지 연속적인 숫자가 들어있는 배열을 만들어 봅시다!\n",
        "array = np.array(range(5))"
      ],
      "execution_count": null,
      "outputs": []
    },
    {
      "cell_type": "code",
      "metadata": {
        "id": "S_pSdA78of1g"
      },
      "source": [
        "# dtype은 list와 다르게 같은 데이터 타입만 저장 가능 -> 단일 데이터\n",
        "'''\n",
        "dtype은 다양하게 표현할 수 있다.\n",
        "정수형 타입 : int32, int64 = i8 (32, 64 는 비트 즉 저장공간을 말한다.)\n",
        "실수형 타입 : float_ = float64 = f8'''\n",
        "\n",
        "import numpy as np\n",
        "\n",
        "print(\"1차원 array\")\n",
        "array = np.array(range(10))\n",
        "print(array)\n",
        "\n",
        "# 1. array의 자료형을 출력해보세요.\n",
        "print(type(array))\n",
        "\n",
        "# 2. array의 차원을 출력해보세요.\n",
        "print(array.ndim)\n",
        "\n",
        "# 3. array의 모양을 출력해보세요.\n",
        "print(array.shape)\n",
        "\n",
        "# 4. array의 크기를 출력해보세요.\n",
        "print(array.size)\n",
        "\n",
        "# 5. array의 dtype(data type)을 출력해보세요.\n",
        "print(array.dtype)\n",
        "\n",
        "# 6. array의 인덱스 5의 요소를 출력해보세요.\n",
        "print(array[5])\n",
        "\n",
        "# 7. array의 인덱스 3의 요소부터 인덱스 5 요소까지 출력해보세요.\n",
        "print(array[3:6])"
      ],
      "execution_count": null,
      "outputs": []
    },
    {
      "cell_type": "code",
      "metadata": {
        "id": "oq6phjpery6X"
      },
      "source": [
        "import numpy as np\n",
        "\n",
        "print(\"2차원 array\")\n",
        "#1부터 15까지 들어있는 (3,5)짜리 배열을 만듭니다.\n",
        "matrix = np.array(range(1,16))\n",
        "matrix.shape = 3,5\n",
        "print(matrix)\n",
        "\n",
        "\n",
        "# 1. matrix의 자료형을 출력해보세요.\n",
        "print(type(matrix))\n",
        "\n",
        "# 2. matrix의 차원을 출력해보세요.\n",
        "print(matrix.ndim)\n",
        "\n",
        "# 3. matrix의 모양을 출력해보세요.\n",
        "print(matrix.shape)\n",
        "\n",
        "# 4. matrix의 크기를 출력해보세요.\n",
        "print(matrix.size)\n",
        "\n",
        "# 5. matrix의 dtype(data type)을 출력해보세요.\n",
        "print(matrix.dtype)\n",
        "\n",
        "# 6. matrix의 dtype을 str로 변경하여 출력해보세요.\n",
        "print(matrix.astype('str'))\n",
        "\n",
        "# 7. matrix의 (2,3) 인덱스의 요소를 출력해보세요.\n",
        "print(matrix[2,3])\n",
        "\n",
        "# 8. matrix의 행은 인덱스 0부터 인덱스 1까지, 열은 인덱스 1부터 인덱스 3까지 출력해보세요.\n",
        "print(matrix[0:2,1:4])"
      ],
      "execution_count": null,
      "outputs": []
    },
    {
      "cell_type": "code",
      "metadata": {
        "id": "S39SkIegsGzG"
      },
      "source": [
        "# Boolean indexing : 배열의 각 요소의 선택 여부를 Boolean mask를 이용하여 지정하는 방식\n",
        "# 1) 조건에 맞는 데이터를 가져옴\n",
        "# 2) 참인지 거짓인지 알려줌"
      ],
      "execution_count": null,
      "outputs": []
    },
    {
      "cell_type": "code",
      "metadata": {
        "id": "WWPO9fwbAQu0"
      },
      "source": [
        "import numpy as np\n",
        "\n",
        "matrix = np.arange(1, 13, 1).reshape(3, 4)\n",
        "print(matrix)\n",
        "\n",
        "# 1. Indexing을 통해 값 2를 출력해보세요.\n",
        "answer1 = matrix[0,1]\n",
        "\n",
        "# 2. Slicing을 통해 매트릭스 일부인 9, 10을 가져와 출력해보세요.\n",
        "answer2 = matrix[2, :2]\n",
        "\n",
        "# 3. Boolean indexing을 통해 5보다 작은 수를 찾아 출력해보세요.\n",
        "answer3 = matrix[matrix<5]\n",
        "\n",
        "# 4. Fancy indexing을 통해 두 번째 행만 추출하여 출력해보세요.\n",
        "answer4 = matrix[[1]]\n",
        "\n",
        "# 위에서 구한 정답을 출력해봅시다.\n",
        "print(answer1)\n",
        "print(answer2)\n",
        "print(answer3)\n",
        "print(answer4)"
      ],
      "execution_count": null,
      "outputs": []
    },
    {
      "cell_type": "markdown",
      "metadata": {
        "id": "EWPJrI55veuX"
      },
      "source": [
        "###03 데이터 조작 및 분석을 위한 Pandas 기본"
      ]
    },
    {
      "cell_type": "code",
      "metadata": {
        "id": "VasNMZWKAhIQ"
      },
      "source": [
        "# pandas는 Data와 Index를 가지고 있다.\n",
        "# Series\n",
        "\n",
        "import numpy as np\n",
        "import pandas as pd\n",
        "\n",
        "# 예시) 시리즈 데이터를 만드는 방법.\n",
        "series = pd.Series([1,2,3,4], index = ['a', 'b', 'c', 'd'], name=\"Title\")\n",
        "print(series, \"\\n\")\n",
        "\n",
        "\n",
        "# 국가별 인구 수 시리즈 데이터를 딕셔너리를 사용하여 만들어보세요.\n",
        "\n",
        "dictionary_ = {'korea' : 5180, 'japan' : 12718, 'china' : 141500, 'usa' : 32676}\n",
        "\n",
        "country = pd.Series(dictionary_)\n",
        "print(country)"
      ],
      "execution_count": null,
      "outputs": []
    },
    {
      "cell_type": "code",
      "metadata": {
        "id": "3og8eSVOCPIO"
      },
      "source": [
        "# DataFrame\n",
        "\n",
        "import numpy as np\n",
        "import pandas as pd\n",
        "\n",
        "# 두 개의 시리즈 데이터가 있습니다.\n",
        "print(\"Population series data:\")\n",
        "population_dict = {\n",
        "    'korea': 5180,\n",
        "    'japan': 12718,\n",
        "    'china': 141500,\n",
        "    'usa': 32676\n",
        "}\n",
        "population = pd.Series(population_dict)\n",
        "print(population, \"\\n\")\n",
        "\n",
        "print(\"GDP series data:\")\n",
        "gdp_dict = {\n",
        "    'korea': 169320000,\n",
        "    'japan': 516700000,\n",
        "    'china': 1409250000,\n",
        "    'usa': 2041280000,\n",
        "}\n",
        "gdp = pd.Series(gdp_dict)\n",
        "print(gdp, \"\\n\")\n",
        "\n",
        "\n",
        "# 이곳에서 2개의 시리즈 값이 들어간 데이터프레임을 생성합니다.\n",
        "print(\"Country DataFrame\")\n",
        "country = pd.DataFrame({\n",
        "'population': population,\n",
        "'gdp':gdp\n",
        "})\n",
        "print(country)\n",
        "print(country.index)\n",
        "print(country.columns)"
      ],
      "execution_count": null,
      "outputs": []
    },
    {
      "cell_type": "code",
      "metadata": {
        "id": "LLcrAzmlFNiP"
      },
      "source": [
        "# 1. loc : location의 약자 명시적 / .loc[인덱스, 컬럼]\n",
        "# 2. iloc: 암묵적, 인덱스 값을 자세히 몰라 순번을 활용할 때 사용함.\n",
        "\n",
        "# 최진사네 딸 7명 이름을 알면 loc, 이름을 몰라서 둘째 딸, 셋째 딸 식으로 말하는 것이 iloc\n",
        "\n"
      ],
      "execution_count": null,
      "outputs": []
    },
    {
      "cell_type": "code",
      "metadata": {
        "id": "mbpIZz85_djI"
      },
      "source": [
        "import numpy as np\n",
        "import pandas as pd\n",
        "\n",
        "print(\"Masking & query\")\n",
        "df = pd.DataFrame(np.random.rand(5, 2), columns=[\"A\", \"B\"])\n",
        "print(df, \"\\n\")\n",
        "\n",
        "# 데이터 프레임에서 A컬럼값이 0.5보다 작고 B컬럼 값이 0.3보다 큰값들을 구해봅시다.\n",
        "# 마스킹 연산을 활용하여 출력해보세요!\n",
        "\n",
        "#print(df[df['A']<0.5])\n",
        "#print(df[df['B']>0.3])\n",
        "\n",
        "print(df[(df['A']<0.5) & (df['B']>0.3)])\n",
        "\n",
        "# query 함수를 활용하여 출력해보세요!\n",
        "\n",
        "print(df.query(\"A<0.5 and B>0.3\"))"
      ],
      "execution_count": null,
      "outputs": []
    },
    {
      "cell_type": "code",
      "metadata": {
        "id": "i9ltn6x4AB3p"
      },
      "source": [
        "import numpy as np\n",
        "import pandas as pd\n",
        "\n",
        "# GDP와 인구수 시리즈 값이 들어간 데이터프레임을 생성합니다.\n",
        "population = pd.Series({'korea': 5180,'japan': 12718,'china': 141500,'usa': 32676})\n",
        "gdp = pd.Series({'korea': 169320000,'japan': 516700000,'china': 1409250000,'usa': 2041280000})\n",
        "print(\"Country DataFrame\")\n",
        "country = pd.DataFrame({\"population\" : population,\"gdp\" : gdp})\n",
        "print(country)\n",
        "\n",
        "\n",
        "# 데이터프레임에 gdp per capita 칼럼을 추가하고 출력합니다.\n",
        "\n",
        "gdp_per_capita = country['gdp']/country['population']\n",
        "country['gdp per capita'] = gdp_per_capita\n",
        "print(country)"
      ],
      "execution_count": null,
      "outputs": []
    },
    {
      "cell_type": "markdown",
      "metadata": {
        "id": "2CvgdvbhvfI8"
      },
      "source": [
        "###04 데이터 조작 및 분석을 위한 Pandas 심화"
      ]
    },
    {
      "cell_type": "code",
      "metadata": {
        "id": "IwfNnRadBi6S"
      },
      "source": [
        "import numpy as np\n",
        "import pandas as pd\n",
        "\n",
        "print(\"DataFrame: \")\n",
        "df = pd.DataFrame({\n",
        "    'col1' : [2, 1, 9, 8, 7, 4],\n",
        "    'col2' : ['A', 'A', 'B', np.nan, 'D', 'C'],\n",
        "    'col3': [0, 1, 9, 4, 2, 3],\n",
        "})\n",
        "print(df, \"\\n\")\n",
        "\n",
        "\n",
        "# 정렬 코드 입력해보기    \n",
        "# 1. col1을 기준으로 오름차순으로 정렬하기.\n",
        "sorted_df1 = df.sort_values('col1', ascending=True)\n",
        "print(sorted_df1)\n",
        "\n",
        "\n",
        "# 2. col2를 기준으로 내림차순으로 정렬하기.\n",
        "sorted_df2 = df.sort_values('col2', ascending=False)\n",
        "print(sorted_df2)\n",
        "\n",
        "# 3. col2를 기준으로 오름차순으로, col1를 기준으로 내림차순으로 정렬하기.\n",
        "sorted_df3 = df.sort_values(['col2', 'col1'], ascending=[True, False])\n",
        "print(sorted_df3)"
      ],
      "execution_count": null,
      "outputs": []
    },
    {
      "cell_type": "code",
      "metadata": {
        "id": "wMi38NmBEy4R"
      },
      "source": [
        "import numpy as np\n",
        "import pandas as pd\n",
        "\n",
        "data = {\n",
        "    'korean' : [50, 60, 70],\n",
        "    'math' : [10, np.nan, 40]\n",
        "}\n",
        "df = pd.DataFrame(data, index = ['a','b','c'])\n",
        "print(df, \"\\n\")\n",
        "\n",
        "# 각 컬럼별 데이터 개수\n",
        "col_num = df.count(axis=0)\n",
        "print(col_num, \"\\n\")\n",
        "\n",
        "# 각 행별 데이터 개수\n",
        "row_num = df.count(axis=1)\n",
        "print(row_num, \"\\n\")\n",
        "\n",
        "# 각 컬럼별 최댓값\n",
        "col_max = df.max()\n",
        "print(col_max, \"\\n\")\n",
        "\n",
        "# 각 컬럼별 최솟값\n",
        "col_min = df.min()\n",
        "print(col_min, \"\\n\")\n",
        "\n",
        "# 각 컬럼별 합계\n",
        "col_sum = df.sum()\n",
        "print(col_sum, \"\\n\")\n",
        "\n",
        "# 컬럼의 최솟값으로 NaN값 대체\n",
        "math_min = df['math'].min()\n",
        "df['math'] = df['math'].fillna(math_min)\n",
        "print(df, \"\\n\")\n",
        "\n",
        "# 각 컬럼별 평균\n",
        "col_avg = df.mean()\n",
        "print(col_avg, \"\\n\")"
      ],
      "execution_count": null,
      "outputs": []
    },
    {
      "cell_type": "code",
      "metadata": {
        "id": "o_gCInxZHse4"
      },
      "source": [
        "# group by\n",
        "import numpy as np\n",
        "import pandas as pd\n",
        "\n",
        "df = pd.DataFrame({\n",
        "    'data1' : range(6),\n",
        "    'data2' : [4,4,6,0,6,1],\n",
        "    'key' : ['A','B','C','A','B','C']\n",
        "})\n",
        "df.groupby('key').sum()\n",
        "df.groupby(['key','data1']).sum()\n",
        "\n",
        "#aggregate : groupby를 통해서 집계를 한번에 계산하는 방법\n",
        "df.groupby('key').aggregate(['min', np.median, max])\n",
        "df.groupby('key').aggregate({'data1':'min', 'data2':np.sum})\n",
        "\n",
        "#filter : groupby를 통해서 그룹 속성을 기준으로 데이터 필터링\n",
        "def filter_by_mean(x):\n",
        "  return x['data2'].mean() > 3\n",
        "\n",
        "df.groupby('key').mean()\n",
        "df.groupby('key').filter(filter_by_mean)"
      ],
      "execution_count": null,
      "outputs": []
    },
    {
      "cell_type": "code",
      "metadata": {
        "id": "oc7OgffBLuHA"
      },
      "source": [
        "import numpy as np\n",
        "import pandas as pd\n",
        "\n",
        "df = pd.DataFrame({\n",
        "    'key': ['A', 'B', 'C', 'A', 'B', 'C'],\n",
        "    'data1': [1, 2, 3, 1, 2, 3],\n",
        "    'data2': [4, 4, 6, 0, 6, 1]\n",
        "})\n",
        "print(\"DataFrame:\")\n",
        "print(df, \"\\n\")\n",
        "\n",
        "# groupby 함수를 이용해봅시다.\n",
        "# key를 기준으로 묶어 합계를 구해 출력해보세요.\n",
        "print(df.groupby('key').sum())\n",
        "\n",
        "\n",
        "# key와 data1을 기준으로 묶어 합계를 구해 출력해보세요.\n",
        "print(df.groupby(['key', 'data1']).sum())"
      ],
      "execution_count": null,
      "outputs": []
    },
    {
      "cell_type": "code",
      "metadata": {
        "id": "RWJ31BqqRCxz"
      },
      "source": [
        "import numpy as np\n",
        "import pandas as pd\n",
        "\n",
        "df = pd.DataFrame({\n",
        "    'key': ['A', 'B', 'C', 'A', 'B', 'C'],\n",
        "    'data1': [0, 1, 2, 3, 4, 5],\n",
        "    'data2': [4, 4, 6, 0, 6, 1]\n",
        "})\n",
        "print(\"DataFrame:\")\n",
        "print(df, \"\\n\")\n",
        "\n",
        "# aggregate를 이용하여 요약 통계량을 산출해봅시다.\n",
        "# 데이터 프레임을 'key' 칼럼으로 묶고, data1과 data2 각각의 최솟값, 중앙값, 최댓값을 출력하세요.\n",
        "\n",
        "print(df.groupby('key').aggregate([min, np.median, max]))\n",
        "#print(df.groupby('key').aggregate(['min', np.median, 'max']))\n",
        "\n",
        "# 데이터 프레임을 'key' 칼럼으로 묶고, data1의 최솟값, data2의 합계를 출력하세요.\n",
        "\n",
        "print(df.groupby('key').aggregate({'data1':min, 'data2':sum}))"
      ],
      "execution_count": null,
      "outputs": []
    },
    {
      "cell_type": "markdown",
      "metadata": {
        "id": "G22vRc4JvfNB"
      },
      "source": [
        "###05 Matplotlib 데이터 시각화"
      ]
    },
    {
      "cell_type": "code",
      "metadata": {
        "colab": {
          "base_uri": "https://localhost:8080/",
          "height": 265
        },
        "id": "8jA-l3AfSExl",
        "outputId": "a6d174fd-2444-4121-fc04-62427923e23b"
      },
      "source": [
        "import numpy as np\n",
        "import pandas as pd\n",
        "import matplotlib.pyplot as plt\n",
        "\n",
        "#이미 입력되어 있는 코드의 다양한 속성값들을 변경해 봅시다.\n",
        "x = np.arange(10)\n",
        "fig, ax = plt.subplots()\n",
        "ax.plot(\n",
        "    x, x, label='y=x',\n",
        "    #linestyle=':',\n",
        "    linestyle='-',\n",
        "    #marker='o',\n",
        "    marker='.',\n",
        "    color='blue'\n",
        ")\n",
        "ax.plot(\n",
        "    x, x**2, label='y=x^2',\n",
        "    #linestyle='--',\n",
        "    linestyle='-.',\n",
        "    #marker='^',\n",
        "    marker=',',\n",
        "    color='red'\n",
        ")\n",
        "\n",
        "# elice에서 그래프를 확인\n",
        "fig.savefig(\"plot.png\")"
      ],
      "execution_count": null,
      "outputs": [
        {
          "output_type": "display_data",
          "data": {
            "image/png": "[encoded data removed]",
            "text/plain": [
              "<Figure size 432x288 with 1 Axes>"
            ]
          },
          "metadata": {
            "needs_background": "light"
          }
        }
      ]
    },
    {
      "cell_type": "code",
      "metadata": {
        "colab": {
          "base_uri": "https://localhost:8080/",
          "height": 279
        },
        "id": "xxtqj2LSoIuI",
        "outputId": "6963fe5e-7bab-4d3f-dca6-a3a0e614cc3d"
      },
      "source": [
        "import numpy as np\n",
        "import pandas as pd\n",
        "import matplotlib.pyplot as plt\n",
        "\n",
        "x = np.arange(10)\n",
        "fig, ax = plt.subplots()\n",
        "ax.plot(\n",
        "    x, x, label='y=x',\n",
        "    linestyle='-',\n",
        "    marker='.',\n",
        "    color='blue'\n",
        ")\n",
        "ax.plot(\n",
        "    x, x**2, label='y=x^2',\n",
        "    linestyle='-.',\n",
        "    marker=',',\n",
        "    color='red'\n",
        ")\n",
        "ax.set_xlabel(\"x\")\n",
        "ax.set_ylabel(\"y\")\n",
        "\n",
        "#이미 입력되어 있는 코드의 다양한 속성값들을 변경해 봅시다.\n",
        "ax.legend(\n",
        "    loc='center left',\n",
        "    shadow=True,\n",
        "    fancybox=True,\n",
        "    borderpad=2\n",
        ")\n",
        "\n",
        "# elice에서 그래프를 확인\n",
        "fig.savefig(\"plot.png\")"
      ],
      "execution_count": null,
      "outputs": [
        {
          "output_type": "display_data",
          "data": {
            "image/png": "[encoded data removed]",
            "text/plain": [
              "<Figure size 432x288 with 1 Axes>"
            ]
          },
          "metadata": {
            "needs_background": "light"
          }
        }
      ]
    },
    {
      "cell_type": "code",
      "metadata": {
        "colab": {
          "base_uri": "https://localhost:8080/",
          "height": 913
        },
        "id": "BPZPWkBKol19",
        "outputId": "3eceff94-43e1-4024-a255-63c753fd83bc"
      },
      "source": [
        "import numpy as np\n",
        "import pandas as pd\n",
        "import matplotlib.pyplot as plt\n",
        "import matplotlib.font_manager as fm\n",
        "\n",
        "fname='/content/drive/MyDrive/211019 NIPA AI 온라인 교육/NanumBarunGothic.ttf'\n",
        "font = fm.FontProperties(fname = fname).get_name()\n",
        "plt.rcParams[\"font.family\"] = font\n",
        "\n",
        "# Data set\n",
        "x = np.array([\"축구\", \"야구\", \"농구\", \"배드민턴\", \"탁구\"])\n",
        "y = np.array([13, 10, 17, 8, 7])\n",
        "z = np.random.randn(1000)\n",
        "\n",
        "fig, axes = plt.subplots(1, 2, figsize=(8, 4))\n",
        "\n",
        "# Bar 그래프\n",
        "axes[0].bar(x, y)\n",
        "# 히스토그램\n",
        "axes[1].hist(z, bins = 200)\n",
        "\n",
        "# elice에서 그래프 확인하기\n",
        "fig.savefig(\"plot.png\")"
      ],
      "execution_count": null,
      "outputs": [
        {
          "output_type": "stream",
          "name": "stderr",
          "text": [
            "/usr/local/lib/python3.7/dist-packages/matplotlib/backends/backend_agg.py:214: RuntimeWarning: Glyph 52629 missing from current font.\n",
            "  font.set_text(s, 0.0, flags=flags)\n",
            "/usr/local/lib/python3.7/dist-packages/matplotlib/backends/backend_agg.py:214: RuntimeWarning: Glyph 44396 missing from current font.\n",
            "  font.set_text(s, 0.0, flags=flags)\n",
            "/usr/local/lib/python3.7/dist-packages/matplotlib/backends/backend_agg.py:214: RuntimeWarning: Glyph 50556 missing from current font.\n",
            "  font.set_text(s, 0.0, flags=flags)\n",
            "/usr/local/lib/python3.7/dist-packages/matplotlib/backends/backend_agg.py:214: RuntimeWarning: Glyph 45453 missing from current font.\n",
            "  font.set_text(s, 0.0, flags=flags)\n",
            "/usr/local/lib/python3.7/dist-packages/matplotlib/backends/backend_agg.py:214: RuntimeWarning: Glyph 48176 missing from current font.\n",
            "  font.set_text(s, 0.0, flags=flags)\n",
            "/usr/local/lib/python3.7/dist-packages/matplotlib/backends/backend_agg.py:214: RuntimeWarning: Glyph 46300 missing from current font.\n",
            "  font.set_text(s, 0.0, flags=flags)\n",
            "/usr/local/lib/python3.7/dist-packages/matplotlib/backends/backend_agg.py:214: RuntimeWarning: Glyph 48124 missing from current font.\n",
            "  font.set_text(s, 0.0, flags=flags)\n",
            "/usr/local/lib/python3.7/dist-packages/matplotlib/backends/backend_agg.py:214: RuntimeWarning: Glyph 53556 missing from current font.\n",
            "  font.set_text(s, 0.0, flags=flags)\n",
            "/usr/local/lib/python3.7/dist-packages/matplotlib/backends/backend_agg.py:214: RuntimeWarning: Glyph 53441 missing from current font.\n",
            "  font.set_text(s, 0.0, flags=flags)\n",
            "/usr/local/lib/python3.7/dist-packages/matplotlib/backends/backend_agg.py:183: RuntimeWarning: Glyph 52629 missing from current font.\n",
            "  font.set_text(s, 0, flags=flags)\n",
            "/usr/local/lib/python3.7/dist-packages/matplotlib/backends/backend_agg.py:183: RuntimeWarning: Glyph 44396 missing from current font.\n",
            "  font.set_text(s, 0, flags=flags)\n",
            "/usr/local/lib/python3.7/dist-packages/matplotlib/backends/backend_agg.py:183: RuntimeWarning: Glyph 50556 missing from current font.\n",
            "  font.set_text(s, 0, flags=flags)\n",
            "/usr/local/lib/python3.7/dist-packages/matplotlib/backends/backend_agg.py:183: RuntimeWarning: Glyph 45453 missing from current font.\n",
            "  font.set_text(s, 0, flags=flags)\n",
            "/usr/local/lib/python3.7/dist-packages/matplotlib/backends/backend_agg.py:183: RuntimeWarning: Glyph 48176 missing from current font.\n",
            "  font.set_text(s, 0, flags=flags)\n",
            "/usr/local/lib/python3.7/dist-packages/matplotlib/backends/backend_agg.py:183: RuntimeWarning: Glyph 46300 missing from current font.\n",
            "  font.set_text(s, 0, flags=flags)\n",
            "/usr/local/lib/python3.7/dist-packages/matplotlib/backends/backend_agg.py:183: RuntimeWarning: Glyph 48124 missing from current font.\n",
            "  font.set_text(s, 0, flags=flags)\n",
            "/usr/local/lib/python3.7/dist-packages/matplotlib/backends/backend_agg.py:183: RuntimeWarning: Glyph 53556 missing from current font.\n",
            "  font.set_text(s, 0, flags=flags)\n",
            "/usr/local/lib/python3.7/dist-packages/matplotlib/backends/backend_agg.py:183: RuntimeWarning: Glyph 53441 missing from current font.\n",
            "  font.set_text(s, 0, flags=flags)\n"
          ]
        },
        {
          "output_type": "display_data",
          "data": {
            "image/png": "[encoded data removed]",
            "text/plain": [
              "<Figure size 576x288 with 2 Axes>"
            ]
          },
          "metadata": {
            "needs_background": "light"
          }
        }
      ]
    },
    {
      "cell_type": "code",
      "metadata": {
        "colab": {
          "base_uri": "https://localhost:8080/",
          "height": 335
        },
        "id": "585sEP1CrK5x",
        "outputId": "4bcd838b-4543-4f8c-9633-6a52f946d607"
      },
      "source": [
        "import numpy as np\n",
        "import pandas as pd\n",
        "import matplotlib.pyplot as plt\n",
        "\n",
        "\n",
        "# 아래 경로에서 csv파일을 읽어서 df 변수에 저장해보세요.\n",
        "# 경로: \"./data/pokemon.csv\"\n",
        "df = pd.read_csv(\"/content/drive/MyDrive/211019 NIPA AI 온라인 교육/pokemon.csv\")\n",
        "\n",
        "# 공격 타입 Type 1, Type 2 중에 Fire 속성이 존재하는 데이터들만 추출해보세요.\n",
        "fire = df[(df['Type 1']=='Fire')|(df['Type 2']=='Fire')]\n",
        "# 공격 타입 Type 1, Type 2 중에 Water 속성이 존재하는 데이터들만 추출해보세요.\n",
        "water = df[(df['Type 1']=='Water')|(df['Type 2']=='Water')]\n",
        "\n",
        "fig, ax = plt.subplots()\n",
        "# 왼쪽 표를 참고하여 아래 코드를 완성해보세요.\n",
        "ax.scatter(fire['Attack'], fire['Defense'],\n",
        "    marker='*', color='R', label='Fire', s=50)\n",
        "ax.scatter(water['Attack'], water['Defense'],\n",
        "    marker='.', color='B', label='Water', s=25)\n",
        "\n",
        "ax.set_xlabel(\"Attack\")\n",
        "ax.set_ylabel(\"Defense\")\n",
        "ax.legend(loc=\"upper right\")\n",
        "\n",
        "# elice에서 그래프 확인하기\n",
        "fig.savefig(\"plot.png\")"
      ],
      "execution_count": null,
      "outputs": [
        {
          "output_type": "stream",
          "name": "stderr",
          "text": [
            "/usr/local/lib/python3.7/dist-packages/ipykernel_launcher.py:18: MatplotlibDeprecationWarning: Support for uppercase single-letter colors is deprecated since Matplotlib 3.1 and will be removed in 3.3; please use lowercase instead.\n",
            "/usr/local/lib/python3.7/dist-packages/ipykernel_launcher.py:20: MatplotlibDeprecationWarning: Support for uppercase single-letter colors is deprecated since Matplotlib 3.1 and will be removed in 3.3; please use lowercase instead.\n"
          ]
        },
        {
          "output_type": "display_data",
          "data": {
            "image/png": "[encoded data removed]",
            "text/plain": [
              "<Figure size 432x288 with 1 Axes>"
            ]
          },
          "metadata": {
            "needs_background": "light"
          }
        }
      ]
    }
  ]
}